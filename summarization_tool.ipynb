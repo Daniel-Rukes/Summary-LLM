{
 "cells": [
  {
   "cell_type": "code",
   "execution_count": 200,
   "id": "6bae551a",
   "metadata": {},
   "outputs": [],
   "source": [
    "import langchain\n",
    "import os\n",
    "from langchain.prompts import PromptTemplate\n",
    "from langchain_openai import ChatOpenAI \n",
    "import warnings"
   ]
  },
  {
   "cell_type": "code",
   "execution_count": null,
   "id": "74e0abee",
   "metadata": {},
   "outputs": [],
   "source": [
    "prompt_template = PromptTemplate(\n",
    "    input_variables=[\"input\"],\n",
    "    template=\"Summarize the following text {input}?\",\n",
    ")"
   ]
  },
  {
   "cell_type": "code",
   "execution_count": 202,
   "id": "52a9f2f0",
   "metadata": {},
   "outputs": [],
   "source": [
    "# Instantiate ChatOpenAI to connect to LM Studio\n",
    "llm = ChatOpenAI(\n",
    "    base_url=\"http://localhost:1234/v1\", # Standard LM Studio API endpoint\n",
    "    model=\"google/gemma-3-1b\", # This can often be a placeholder when talking to LM Studio,\n",
    "                         # as it serves the model currently loaded in its UI.\n",
    "                         # Some LM Studio versions might expose the loaded model name here,\n",
    "                         # otherwise, it might be ignored.\n",
    "                         # You can try the actual model name if known, e.g., \"gemma-3-12b\"\n",
    "    temperature=0.9\n",
    ")"
   ]
  },
  {
   "cell_type": "code",
   "execution_count": 203,
   "id": "12a957d4",
   "metadata": {},
   "outputs": [],
   "source": [
    "warnings.filterwarnings(\"ignore\", category=DeprecationWarning)\n",
    "\n",
    "example_text = \"\"\"Silas Finch was a man rooted in the earth, his hands calloused and stained with the rich hues of soil and the stubborn brown of harvest. He’d spent his entire seventy-two years on Hemlock Ridge, a small, unremarkable valley nestled between rolling hills and a perpetually overcast sky – a place where time seemed to move slower than the roots of ancient oaks. Silas wasn't interested in grand ambitions or chasing shimmering city lights; he simply found contentment in the predictable rhythm of his farm, tending to his crops, watching the seasons change, and knowing that every sunrise would bring another chance to nurture life.  His family had farmed Hemlock Ridge for generations, a tradition built on hard work and an unwavering respect for the land.\n",
    "\n",
    "Then, one Tuesday morning, a battered, insistent email arrived  a connection offered by a distant cousin, a man named Bartholomew Blackwood, who lived in New York City. Bartholomew was a collector of “unique” artifacts, specializing in forgotten histories and oddities, and he’d been looking for someone with Silas’s quiet intensity and a deep understanding of rural life.  Silas initially dismissed it as another foolish whim – a fleeting fancy fueled by too much apple cider – but the email persisted, accompanied by increasingly detailed photographs and a promise of something “remarkable.”\n",
    "\n",
    "He packed his weathered Ford truck, loaded with burlap sacks of potatoes and a surprisingly large collection of vintage seed packets, and drove out to the edge of Hemlock Ridge. The drive itself was an odyssey – a slow, deliberate journey through winding country roads, past fields heavy with ripening barley and barns painted in faded blues and reds – a stark contrast to the muted browns and greens he knew so well.  He carried with him a worn leather journal filled with observations about the land, his family’s history, and a profound sense of isolation.\n",
    "\n",
    "New York City was a chaotic explosion of sounds and smells - a dizzying array of honking taxis, chattering crowds, and the pungent aroma of street food – utterly unlike anything Silas had ever experienced. He found a small, sparsely furnished apartment in Brooklyn, tucked away on the lower east side, and immediately began to unpack his belongings, meticulously arranging each item in its designated spot. The first few weeks were agonizingly quiet. The sheer volume of people, the relentless pace of life, and the constant buzz of city noise threatened to overwhelm him.\n",
    "\n",
    "He quickly realized that he wasn't just a farmer anymore; he was a stranger in a strange land. He struggled to navigate the subway system, bewildered by the etiquette and the sheer density of humanity. He tried his hand at bartering for groceries, but his knowledge of farming practices was immediately dismissed as quaint and irrelevant.  He quickly learned that “rustic” wasn’t a fashionable term – it was just a description of his lifestyle.\n",
    "\n",
    "His initial attempts to connect with others were met with polite indifference or outright suspicion. He tried offering his expertise on crop rotation and soil management, but people seemed more interested in smartphones than farming advice. One evening, while sitting alone in a dimly lit park, watching the city lights glitter, he felt a profound loneliness settle over him – a loneliness that wasn't just the isolation of being far from home, but an unsettling feeling of displacement, as if he were adrift in a sea of ambition and indifference.\n",
    "\n",
    "Then, one rainy afternoon, while sketching a particularly imposing brick building in Prospect Park, he met Elara. She was a street artist, working on a mural depicting scenes from the American West – bold colors, intricate details, and a raw sense of history.  Elara noticed his sketchbook and asked him about his passion for the land. He began to tell her stories about Hemlock Ridge, about the changing seasons, and the generations of farmers who had worked that soil. She listened intently, captivated by his quiet observations and his genuine love for the natural world.\n",
    "\n",
    "She introduced him to a small network of artists and craftspeople who were drawn to his authenticity and his appreciation for the simple things in life.  They invited him to participate in a local art fair, showcasing his photographs and drawings alongside Elara's vibrant murals. Silas initially resisted – he was uncomfortable with the intrusion of commerce and the pressure to create something marketable – but Elara gently persuaded him, reminding him that his work wasn’t about fame or fortune, but about preserving a connection to the past.\n",
    "\n",
    "As he began to integrate into the citys artistic scene, Silas found himself rediscovering a new sense of purpose. He started teaching photography workshops to children in a local community center, sharing his knowledge of light and composition. He discovered that even amidst the noise and bustle, there was still beauty to be found – the way sunlight filtered through the clouds, the intricate patterns on a butterfly’s wing, the vibrant colors of the city skyline.\n",
    "\n",
    "He also began to understand the complexities of modern life - the relentless pursuit of success, the fleeting nature of relationships, and the inherent loneliness that could exist even in the most bustling of places.  He learned that while the city offered opportunities for innovation and connection, it also demanded a certain level of detachment – a willingness to prioritize ambition over simplicity.\n",
    "\n",
    "Despite his newfound connections, Silas never forgot Hemlock Ridge. He often returned to the valley, bringing with him a small bag of potatoes and a renewed appreciation for the quiet beauty of his home.  He realized that while he had traded in the predictability of his old life for the unpredictable rhythm of the city, he hadn't lost himself entirely. He had become a part of something larger – a collection of stories, a testament to the enduring power of connection and the importance of preserving the past, even as he looked towards the future.\"\"\""
   ]
  },
  {
   "cell_type": "code",
   "execution_count": null,
   "id": "dcb3f33d",
   "metadata": {},
   "outputs": [],
   "source": [
    "if __name__ == \"__main__\":\n",
    "    if example_text != \"text to be summarized put here\" and example_text.strip() != \"\":\n",
    "        # If using LLMChain:\n",
    "        # response = llm_chain.invoke({\"input\": example_text})\n",
    "        # print(response['text']) # For LLMChain, the output is usually in response['text']\n",
    "\n",
    "        # Or directly with the llm instance (ChatOpenAI)\n",
    "        # For ChatModels, the input is typically a list of messages\n",
    "        from langchain_core.messages import HumanMessage\n",
    "        response = llm.invoke([HumanMessage(content=prompt_template.format(input=example_text))])\n",
    "        print(response.content)\n",
    "    else:\n",
    "        print(\"Please replace 'text to be summarized put here' with actual text.\")"
   ]
  }
 ],
 "metadata": {
  "kernelspec": {
   "display_name": "Python 3",
   "language": "python",
   "name": "python3"
  },
  "language_info": {
   "codemirror_mode": {
    "name": "ipython",
    "version": 3
   },
   "file_extension": ".py",
   "mimetype": "text/x-python",
   "name": "python",
   "nbconvert_exporter": "python",
   "pygments_lexer": "ipython3",
   "version": "3.11.11"
  }
 },
 "nbformat": 4,
 "nbformat_minor": 5
}
